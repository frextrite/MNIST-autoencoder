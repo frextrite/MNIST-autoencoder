{
 "cells": [
  {
   "cell_type": "markdown",
   "metadata": {},
   "source": [
    "# MNIST Autoencoder\n",
    "##### Blog Link: https://blog.keras.io/building-autoencoders-in-keras.html"
   ]
  },
  {
   "cell_type": "markdown",
   "metadata": {},
   "source": [
    "##### Autoencoders main claim to fame comes from being featured in many introductory machine learning classes available online. As a result, a lot of newcomers to the field absolutely love autoencoders and can't get enough of them. This is the reason why this tutorial exists! - Keras Blog 2017"
   ]
  },
  {
   "cell_type": "code",
   "execution_count": 1,
   "metadata": {},
   "outputs": [],
   "source": [
    "# imports for creating an autoencoder model\n",
    "from tensorflow.keras.layers import Input, Dense, Conv2D, MaxPooling2D, UpSampling2D\n",
    "from tensorflow.keras.models import Model"
   ]
  },
  {
   "cell_type": "code",
   "execution_count": 2,
   "metadata": {},
   "outputs": [
    {
     "name": "stdout",
     "output_type": "stream",
     "text": [
      "_________________________________________________________________\n",
      "Layer (type)                 Output Shape              Param #   \n",
      "=================================================================\n",
      "input_1 (InputLayer)         (None, 28, 28, 1)         0         \n",
      "_________________________________________________________________\n",
      "conv2d (Conv2D)              (None, 28, 28, 32)        832       \n",
      "_________________________________________________________________\n",
      "max_pooling2d (MaxPooling2D) (None, 14, 14, 32)        0         \n",
      "_________________________________________________________________\n",
      "conv2d_1 (Conv2D)            (None, 14, 14, 64)        51264     \n",
      "_________________________________________________________________\n",
      "max_pooling2d_1 (MaxPooling2 (None, 7, 7, 64)          0         \n",
      "_________________________________________________________________\n",
      "conv2d_2 (Conv2D)            (None, 7, 7, 64)          102464    \n",
      "_________________________________________________________________\n",
      "up_sampling2d (UpSampling2D) (None, 14, 14, 64)        0         \n",
      "_________________________________________________________________\n",
      "conv2d_3 (Conv2D)            (None, 14, 14, 32)        51232     \n",
      "_________________________________________________________________\n",
      "up_sampling2d_1 (UpSampling2 (None, 28, 28, 32)        0         \n",
      "_________________________________________________________________\n",
      "conv2d_4 (Conv2D)            (None, 28, 28, 1)         801       \n",
      "=================================================================\n",
      "Total params: 206,593\n",
      "Trainable params: 206,593\n",
      "Non-trainable params: 0\n",
      "_________________________________________________________________\n"
     ]
    }
   ],
   "source": [
    "# create the model\n",
    "input_img = Input(shape=(28, 28, 1))\n",
    "\n",
    "# create an encoder model\n",
    "x = Conv2D(32, (5,5), activation='relu', padding='same')(input_img)\n",
    "x = MaxPooling2D((2,2), padding='same')(x)\n",
    "x = Conv2D(64, (5,5), activation='relu', padding='same')(x)\n",
    "encoded = MaxPooling2D((2,2), padding='same')(x)\n",
    "\n",
    "# create a decoder model\n",
    "x = Conv2D(64, (5,5), activation='relu', padding='same')(encoded)\n",
    "x = UpSampling2D((2,2))(x)\n",
    "x = Conv2D(32, (5,5), activation='relu', padding='same')(x)\n",
    "x = UpSampling2D((2,2))(x)\n",
    "decoded = Conv2D(1, (5,5), activation='relu', padding='same')(x)\n",
    "\n",
    "autoencoder_model = Model(input_img, decoded)\n",
    "autoencoder_model.summary()"
   ]
  },
  {
   "cell_type": "code",
   "execution_count": 3,
   "metadata": {},
   "outputs": [],
   "source": [
    "# compile our auto encoder model\n",
    "autoencoder_model.compile(loss='binary_crossentropy', optimizer='adam', metrics=['accuracy'])"
   ]
  },
  {
   "cell_type": "code",
   "execution_count": 4,
   "metadata": {},
   "outputs": [],
   "source": [
    "# import MNIST dataset\n",
    "from tensorflow.keras.datasets import mnist\n",
    "import numpy as np"
   ]
  },
  {
   "cell_type": "code",
   "execution_count": 5,
   "metadata": {},
   "outputs": [],
   "source": [
    "# load MNIST data\n",
    "data = mnist.load_data()\n",
    "data = np.array(data)"
   ]
  },
  {
   "cell_type": "code",
   "execution_count": 6,
   "metadata": {},
   "outputs": [],
   "source": [
    "# create train data vector\n",
    "X_train = data[0][0]\n",
    "X_test = data[1][0]"
   ]
  },
  {
   "cell_type": "code",
   "execution_count": 7,
   "metadata": {},
   "outputs": [],
   "source": [
    "# preprocess data\n",
    "X_train = X_train / 255.0\n",
    "X_train = np.reshape(X_train, (len(X_train), 28, 28, 1))\n",
    "X_test = X_test / 255.0\n",
    "X_test = np.reshape(X_test, (len(X_test), 28, 28, 1))"
   ]
  },
  {
   "cell_type": "code",
   "execution_count": 8,
   "metadata": {},
   "outputs": [],
   "source": [
    "# add noise\n",
    "noise_factor = 0.5\n",
    "X_train_noisy = X_train + noise_factor * np.random.normal(loc=0.0, scale=1.0, size=X_train.shape) \n",
    "X_test_noisy = X_test + noise_factor * np.random.normal(loc=0.0, scale=1.0, size=X_test.shape) \n",
    "\n",
    "X_train_noisy = np.clip(X_train_noisy, 0.0, 1.0)\n",
    "X_test_noisy = np.clip(X_test_noisy, 0.0, 1.0)"
   ]
  },
  {
   "cell_type": "code",
   "execution_count": 9,
   "metadata": {},
   "outputs": [],
   "source": [
    "# create a tensorboard callback\n",
    "from tensorflow.keras.callbacks import TensorBoard\n",
    "tensorboard = TensorBoard(log_dir='/tmp/cnn_autoencoder', histogram_freq=0)\n",
    "\n",
    "# create callbacks list\n",
    "callbacks=[tensorboard]"
   ]
  },
  {
   "cell_type": "code",
   "execution_count": 10,
   "metadata": {},
   "outputs": [
    {
     "name": "stdout",
     "output_type": "stream",
     "text": [
      "Train on 60000 samples, validate on 10000 samples\n",
      "Epoch 1/100\n",
      "60000/60000 [==============================] - 14s 231us/step - loss: 0.2526 - acc: 0.8015 - val_loss: 0.1872 - val_acc: 0.7998\n",
      "Epoch 2/100\n",
      "60000/60000 [==============================] - 12s 193us/step - loss: 0.1777 - acc: 0.8060 - val_loss: 0.1538 - val_acc: 0.8064\n",
      "Epoch 3/100\n",
      "60000/60000 [==============================] - 12s 193us/step - loss: 0.1621 - acc: 0.8076 - val_loss: 0.1477 - val_acc: 0.8071\n",
      "Epoch 4/100\n",
      "60000/60000 [==============================] - 11s 191us/step - loss: 0.1711 - acc: 0.8074 - val_loss: 0.1852 - val_acc: 0.8074\n",
      "Epoch 5/100\n",
      "60000/60000 [==============================] - 11s 192us/step - loss: 0.1572 - acc: 0.8085 - val_loss: 0.1862 - val_acc: 0.8053\n",
      "Epoch 6/100\n",
      "60000/60000 [==============================] - 11s 188us/step - loss: 0.1724 - acc: 0.8073 - val_loss: 0.1737 - val_acc: 0.8084\n",
      "Epoch 7/100\n",
      "60000/60000 [==============================] - 11s 188us/step - loss: 0.1527 - acc: 0.8089 - val_loss: 0.1391 - val_acc: 0.8099\n",
      "Epoch 8/100\n",
      "60000/60000 [==============================] - 11s 187us/step - loss: 0.1417 - acc: 0.8100 - val_loss: 0.1339 - val_acc: 0.8099\n",
      "Epoch 9/100\n",
      "60000/60000 [==============================] - 11s 187us/step - loss: 0.1548 - acc: 0.8088 - val_loss: 0.1574 - val_acc: 0.8072\n",
      "Epoch 10/100\n",
      "60000/60000 [==============================] - 11s 191us/step - loss: 0.1479 - acc: 0.8091 - val_loss: 0.1478 - val_acc: 0.8110\n",
      "Epoch 11/100\n",
      "60000/60000 [==============================] - 11s 189us/step - loss: 0.1414 - acc: 0.8098 - val_loss: 0.1517 - val_acc: 0.8111\n",
      "Epoch 12/100\n",
      "60000/60000 [==============================] - 11s 190us/step - loss: 0.1949 - acc: 0.8064 - val_loss: 0.1535 - val_acc: 0.8040\n",
      "Epoch 13/100\n",
      "60000/60000 [==============================] - 11s 189us/step - loss: 0.1826 - acc: 0.8049 - val_loss: 0.1887 - val_acc: 0.7999\n",
      "Epoch 14/100\n",
      "60000/60000 [==============================] - 11s 189us/step - loss: 0.1646 - acc: 0.8060 - val_loss: 0.1522 - val_acc: 0.8052\n",
      "Epoch 15/100\n",
      "60000/60000 [==============================] - 11s 188us/step - loss: 0.1674 - acc: 0.8075 - val_loss: 0.1453 - val_acc: 0.8071\n",
      "Epoch 16/100\n",
      "60000/60000 [==============================] - 11s 189us/step - loss: 0.1446 - acc: 0.8093 - val_loss: 0.1397 - val_acc: 0.8104\n",
      "Epoch 17/100\n",
      "60000/60000 [==============================] - 11s 190us/step - loss: 0.1403 - acc: 0.8103 - val_loss: 0.1387 - val_acc: 0.8082\n",
      "Epoch 18/100\n",
      "60000/60000 [==============================] - 12s 193us/step - loss: 0.1536 - acc: 0.8090 - val_loss: 0.1700 - val_acc: 0.8035\n",
      "Epoch 19/100\n",
      "60000/60000 [==============================] - 12s 193us/step - loss: 0.1430 - acc: 0.8098 - val_loss: 0.1352 - val_acc: 0.8093\n",
      "Epoch 20/100\n",
      "60000/60000 [==============================] - 11s 188us/step - loss: 0.1436 - acc: 0.8097 - val_loss: 0.1480 - val_acc: 0.8098\n",
      "Epoch 21/100\n",
      "60000/60000 [==============================] - 11s 188us/step - loss: 0.1547 - acc: 0.8085 - val_loss: 0.1424 - val_acc: 0.8080\n",
      "Epoch 22/100\n",
      "60000/60000 [==============================] - 11s 188us/step - loss: 0.1396 - acc: 0.8099 - val_loss: 0.1345 - val_acc: 0.8095\n",
      "Epoch 23/100\n",
      "60000/60000 [==============================] - 11s 188us/step - loss: 0.1338 - acc: 0.8107 - val_loss: 0.1308 - val_acc: 0.8096\n",
      "Epoch 24/100\n",
      "60000/60000 [==============================] - 11s 188us/step - loss: 0.1329 - acc: 0.8108 - val_loss: 0.1298 - val_acc: 0.8108\n",
      "Epoch 25/100\n",
      "60000/60000 [==============================] - 11s 189us/step - loss: 0.1293 - acc: 0.8113 - val_loss: 0.1266 - val_acc: 0.8099\n",
      "Epoch 26/100\n",
      "60000/60000 [==============================] - 11s 189us/step - loss: 0.1313 - acc: 0.8112 - val_loss: 0.1341 - val_acc: 0.8109\n",
      "Epoch 27/100\n",
      "60000/60000 [==============================] - 11s 188us/step - loss: 0.1642 - acc: 0.8084 - val_loss: 0.1570 - val_acc: 0.8041\n",
      "Epoch 28/100\n",
      "60000/60000 [==============================] - 11s 188us/step - loss: 0.1821 - acc: 0.8071 - val_loss: 0.1679 - val_acc: 0.7997\n",
      "Epoch 29/100\n",
      "60000/60000 [==============================] - 11s 189us/step - loss: 0.1572 - acc: 0.8071 - val_loss: 0.1426 - val_acc: 0.8084\n",
      "Epoch 30/100\n",
      "60000/60000 [==============================] - 11s 188us/step - loss: 0.1411 - acc: 0.8099 - val_loss: 0.1355 - val_acc: 0.8089\n",
      "Epoch 31/100\n",
      "60000/60000 [==============================] - 11s 188us/step - loss: 0.1603 - acc: 0.8084 - val_loss: 0.1420 - val_acc: 0.8083\n",
      "Epoch 32/100\n",
      "60000/60000 [==============================] - 11s 189us/step - loss: 0.1507 - acc: 0.8089 - val_loss: 0.1374 - val_acc: 0.8096\n",
      "Epoch 33/100\n",
      "60000/60000 [==============================] - 11s 189us/step - loss: 0.1394 - acc: 0.8103 - val_loss: 0.1331 - val_acc: 0.8090\n",
      "Epoch 34/100\n",
      "60000/60000 [==============================] - 11s 189us/step - loss: 0.1477 - acc: 0.8096 - val_loss: 0.1428 - val_acc: 0.8077\n",
      "Epoch 35/100\n",
      "60000/60000 [==============================] - 11s 191us/step - loss: 0.1455 - acc: 0.8094 - val_loss: 0.1362 - val_acc: 0.8090\n",
      "Epoch 36/100\n",
      "60000/60000 [==============================] - 11s 187us/step - loss: 0.1350 - acc: 0.8107 - val_loss: 0.1365 - val_acc: 0.8101\n",
      "Epoch 37/100\n",
      "60000/60000 [==============================] - 11s 188us/step - loss: 0.1395 - acc: 0.8103 - val_loss: 0.1326 - val_acc: 0.8101\n",
      "Epoch 38/100\n",
      "60000/60000 [==============================] - 11s 188us/step - loss: 0.1310 - acc: 0.8111 - val_loss: 0.1279 - val_acc: 0.8109\n",
      "Epoch 39/100\n",
      "60000/60000 [==============================] - 11s 188us/step - loss: 0.1289 - acc: 0.8114 - val_loss: 0.1266 - val_acc: 0.8106\n",
      "Epoch 40/100\n",
      "60000/60000 [==============================] - 11s 188us/step - loss: 0.1447 - acc: 0.8102 - val_loss: 0.1355 - val_acc: 0.8104\n",
      "Epoch 41/100\n",
      "60000/60000 [==============================] - 11s 188us/step - loss: 0.1357 - acc: 0.8107 - val_loss: 0.1284 - val_acc: 0.8107\n",
      "Epoch 42/100\n",
      "60000/60000 [==============================] - 11s 188us/step - loss: 0.1391 - acc: 0.8108 - val_loss: 0.1283 - val_acc: 0.8111\n",
      "Epoch 43/100\n",
      "60000/60000 [==============================] - 11s 188us/step - loss: 0.1362 - acc: 0.8108 - val_loss: 0.1325 - val_acc: 0.8106\n",
      "Epoch 44/100\n",
      "60000/60000 [==============================] - 11s 188us/step - loss: 0.1297 - acc: 0.8113 - val_loss: 0.1247 - val_acc: 0.8107\n",
      "Epoch 45/100\n",
      "60000/60000 [==============================] - 11s 187us/step - loss: 0.1283 - acc: 0.8115 - val_loss: 0.1245 - val_acc: 0.8101\n",
      "Epoch 46/100\n",
      "60000/60000 [==============================] - 11s 187us/step - loss: 0.1323 - acc: 0.8112 - val_loss: 0.1248 - val_acc: 0.8111\n",
      "Epoch 47/100\n",
      "60000/60000 [==============================] - 11s 188us/step - loss: 0.1399 - acc: 0.8105 - val_loss: 0.1253 - val_acc: 0.8107\n",
      "Epoch 48/100\n",
      "60000/60000 [==============================] - 11s 187us/step - loss: 0.1265 - acc: 0.8116 - val_loss: 0.1227 - val_acc: 0.8107\n",
      "Epoch 49/100\n",
      "60000/60000 [==============================] - 11s 188us/step - loss: 0.1293 - acc: 0.8115 - val_loss: 0.1457 - val_acc: 0.8116\n",
      "Epoch 50/100\n",
      "60000/60000 [==============================] - 11s 187us/step - loss: 0.1281 - acc: 0.8111 - val_loss: 0.1236 - val_acc: 0.8108\n",
      "Epoch 51/100\n",
      "60000/60000 [==============================] - 11s 188us/step - loss: 0.1242 - acc: 0.8117 - val_loss: 0.1219 - val_acc: 0.8113\n",
      "Epoch 52/100\n",
      "60000/60000 [==============================] - 11s 188us/step - loss: 0.1300 - acc: 0.8115 - val_loss: 0.1226 - val_acc: 0.8112\n",
      "Epoch 53/100\n",
      "60000/60000 [==============================] - 11s 191us/step - loss: 0.1360 - acc: 0.8105 - val_loss: 0.1265 - val_acc: 0.8102\n",
      "Epoch 54/100\n",
      "60000/60000 [==============================] - 11s 187us/step - loss: 0.1422 - acc: 0.8102 - val_loss: 0.1309 - val_acc: 0.8105\n",
      "Epoch 55/100\n",
      "60000/60000 [==============================] - 11s 187us/step - loss: 0.1318 - acc: 0.8112 - val_loss: 0.1323 - val_acc: 0.8113\n",
      "Epoch 56/100\n",
      "60000/60000 [==============================] - 11s 187us/step - loss: 0.1479 - acc: 0.8091 - val_loss: 0.1721 - val_acc: 0.7955\n",
      "Epoch 57/100\n",
      "60000/60000 [==============================] - 11s 188us/step - loss: 0.1479 - acc: 0.8091 - val_loss: 0.1295 - val_acc: 0.8096\n",
      "Epoch 58/100\n",
      "60000/60000 [==============================] - 11s 188us/step - loss: 0.1697 - acc: 0.8099 - val_loss: 0.1769 - val_acc: 0.8007\n"
     ]
    },
    {
     "name": "stdout",
     "output_type": "stream",
     "text": [
      "Epoch 59/100\n",
      "60000/60000 [==============================] - 11s 188us/step - loss: 0.1494 - acc: 0.8081 - val_loss: 0.1373 - val_acc: 0.8085\n",
      "Epoch 60/100\n",
      "60000/60000 [==============================] - 11s 189us/step - loss: 0.1392 - acc: 0.8102 - val_loss: 0.1318 - val_acc: 0.8092\n",
      "Epoch 61/100\n",
      "60000/60000 [==============================] - 11s 190us/step - loss: 0.1354 - acc: 0.8106 - val_loss: 0.1311 - val_acc: 0.8095\n",
      "Epoch 62/100\n",
      "60000/60000 [==============================] - 11s 189us/step - loss: 0.1460 - acc: 0.8100 - val_loss: 0.1351 - val_acc: 0.8100\n",
      "Epoch 63/100\n",
      "60000/60000 [==============================] - 12s 192us/step - loss: 0.1328 - acc: 0.8109 - val_loss: 0.1281 - val_acc: 0.8098\n",
      "Epoch 64/100\n",
      "60000/60000 [==============================] - 11s 190us/step - loss: 0.1298 - acc: 0.8113 - val_loss: 0.1334 - val_acc: 0.8078\n",
      "Epoch 65/100\n",
      "60000/60000 [==============================] - 11s 188us/step - loss: 0.1276 - acc: 0.8114 - val_loss: 0.1318 - val_acc: 0.8081\n",
      "Epoch 66/100\n",
      "60000/60000 [==============================] - 11s 189us/step - loss: 0.1637 - acc: 0.8093 - val_loss: 0.1435 - val_acc: 0.8080\n",
      "Epoch 67/100\n",
      "60000/60000 [==============================] - 11s 188us/step - loss: 0.1588 - acc: 0.8073 - val_loss: 0.2454 - val_acc: 0.8072\n",
      "Epoch 68/100\n",
      "60000/60000 [==============================] - 11s 191us/step - loss: 0.1613 - acc: 0.8081 - val_loss: 0.1421 - val_acc: 0.8080\n",
      "Epoch 69/100\n",
      "60000/60000 [==============================] - 11s 191us/step - loss: 0.1379 - acc: 0.8095 - val_loss: 0.1344 - val_acc: 0.8098\n",
      "Epoch 70/100\n",
      "60000/60000 [==============================] - 11s 188us/step - loss: 0.1481 - acc: 0.8098 - val_loss: 0.1386 - val_acc: 0.8094\n",
      "Epoch 71/100\n",
      "60000/60000 [==============================] - 11s 188us/step - loss: 0.1445 - acc: 0.8090 - val_loss: 0.1357 - val_acc: 0.8088\n",
      "Epoch 72/100\n",
      "60000/60000 [==============================] - 11s 188us/step - loss: 0.1325 - acc: 0.8105 - val_loss: 0.1280 - val_acc: 0.8103\n",
      "Epoch 73/100\n",
      "60000/60000 [==============================] - 11s 188us/step - loss: 0.1326 - acc: 0.8109 - val_loss: 0.1300 - val_acc: 0.8092\n",
      "Epoch 74/100\n",
      "60000/60000 [==============================] - 11s 188us/step - loss: 0.1291 - acc: 0.8110 - val_loss: 0.1266 - val_acc: 0.8105\n",
      "Epoch 75/100\n",
      "60000/60000 [==============================] - 11s 187us/step - loss: 0.1289 - acc: 0.8111 - val_loss: 0.1271 - val_acc: 0.8111\n",
      "Epoch 76/100\n",
      "60000/60000 [==============================] - 11s 188us/step - loss: 0.1323 - acc: 0.8112 - val_loss: 0.1305 - val_acc: 0.8110\n",
      "Epoch 77/100\n",
      "60000/60000 [==============================] - 11s 188us/step - loss: 0.1318 - acc: 0.8107 - val_loss: 0.1363 - val_acc: 0.8106\n",
      "Epoch 78/100\n",
      "60000/60000 [==============================] - 11s 188us/step - loss: 0.1299 - acc: 0.8112 - val_loss: 0.1248 - val_acc: 0.8101\n",
      "Epoch 79/100\n",
      "60000/60000 [==============================] - 11s 187us/step - loss: 0.1310 - acc: 0.8108 - val_loss: 0.1284 - val_acc: 0.8111\n",
      "Epoch 80/100\n",
      "60000/60000 [==============================] - 11s 187us/step - loss: 0.1272 - acc: 0.8115 - val_loss: 0.1236 - val_acc: 0.8104\n",
      "Epoch 81/100\n",
      "60000/60000 [==============================] - 11s 187us/step - loss: 0.1248 - acc: 0.8116 - val_loss: 0.1313 - val_acc: 0.8109\n",
      "Epoch 82/100\n",
      "60000/60000 [==============================] - 11s 188us/step - loss: 0.1244 - acc: 0.8117 - val_loss: 0.1223 - val_acc: 0.8113\n",
      "Epoch 83/100\n",
      "60000/60000 [==============================] - 11s 187us/step - loss: 0.1240 - acc: 0.8117 - val_loss: 0.1227 - val_acc: 0.8109\n",
      "Epoch 84/100\n",
      "60000/60000 [==============================] - 12s 192us/step - loss: 0.1237 - acc: 0.8119 - val_loss: 0.1213 - val_acc: 0.8108\n",
      "Epoch 85/100\n",
      "60000/60000 [==============================] - 11s 191us/step - loss: 0.1229 - acc: 0.8118 - val_loss: 0.1237 - val_acc: 0.8110\n",
      "Epoch 86/100\n",
      "60000/60000 [==============================] - 11s 190us/step - loss: 0.1322 - acc: 0.8106 - val_loss: 0.1229 - val_acc: 0.8108\n",
      "Epoch 87/100\n",
      "60000/60000 [==============================] - 11s 191us/step - loss: 0.1262 - acc: 0.8114 - val_loss: 0.1232 - val_acc: 0.8112\n",
      "Epoch 88/100\n",
      "60000/60000 [==============================] - 12s 192us/step - loss: 0.1396 - acc: 0.8106 - val_loss: 0.1288 - val_acc: 0.8114\n",
      "Epoch 89/100\n",
      "60000/60000 [==============================] - 11s 191us/step - loss: 0.1248 - acc: 0.8117 - val_loss: 0.1212 - val_acc: 0.8110\n",
      "Epoch 90/100\n",
      "60000/60000 [==============================] - 11s 189us/step - loss: 0.1219 - acc: 0.8120 - val_loss: 0.1195 - val_acc: 0.8117\n",
      "Epoch 91/100\n",
      "60000/60000 [==============================] - 11s 188us/step - loss: 0.1294 - acc: 0.8115 - val_loss: 0.1200 - val_acc: 0.8112\n",
      "Epoch 92/100\n",
      "60000/60000 [==============================] - 11s 187us/step - loss: 0.1275 - acc: 0.8112 - val_loss: 0.1257 - val_acc: 0.8095\n",
      "Epoch 93/100\n",
      "60000/60000 [==============================] - 11s 187us/step - loss: 0.1273 - acc: 0.8114 - val_loss: 0.1236 - val_acc: 0.8118\n",
      "Epoch 94/100\n",
      "60000/60000 [==============================] - 11s 187us/step - loss: 0.1238 - acc: 0.8118 - val_loss: 0.1217 - val_acc: 0.8110\n",
      "Epoch 95/100\n",
      "60000/60000 [==============================] - 11s 188us/step - loss: 0.1334 - acc: 0.8112 - val_loss: 0.1327 - val_acc: 0.8107\n",
      "Epoch 96/100\n",
      "60000/60000 [==============================] - 11s 188us/step - loss: 0.1385 - acc: 0.8105 - val_loss: 0.1361 - val_acc: 0.8098\n",
      "Epoch 97/100\n",
      "60000/60000 [==============================] - 11s 188us/step - loss: 0.1354 - acc: 0.8104 - val_loss: 0.1262 - val_acc: 0.8104\n",
      "Epoch 98/100\n",
      "60000/60000 [==============================] - 11s 188us/step - loss: 0.1260 - acc: 0.8116 - val_loss: 0.1223 - val_acc: 0.8115\n",
      "Epoch 99/100\n",
      "60000/60000 [==============================] - 11s 188us/step - loss: 0.1233 - acc: 0.8119 - val_loss: 0.1209 - val_acc: 0.8109\n",
      "Epoch 100/100\n",
      "60000/60000 [==============================] - 11s 188us/step - loss: 0.1301 - acc: 0.8115 - val_loss: 0.1232 - val_acc: 0.8101\n"
     ]
    },
    {
     "data": {
      "text/plain": [
       "<tensorflow.python.keras.callbacks.History at 0x7f45cd537b70>"
      ]
     },
     "execution_count": 10,
     "metadata": {},
     "output_type": "execute_result"
    }
   ],
   "source": [
    "# train the model\n",
    "autoencoder_model.fit(X_train_noisy, X_train, \n",
    "                      epochs=100, \n",
    "                      batch_size=512, \n",
    "                      shuffle=True, \n",
    "                      validation_data=(X_test_noisy, X_test), \n",
    "                      callbacks=callbacks)"
   ]
  },
  {
   "cell_type": "code",
   "execution_count": 12,
   "metadata": {},
   "outputs": [
    {
     "data": {
      "image/png": "[encoded data removed]",
      "text/plain": [
       "<Figure size 1440x288 with 20 Axes>"
      ]
     },
     "metadata": {},
     "output_type": "display_data"
    }
   ],
   "source": [
    "from matplotlib import pyplot as plt\n",
    "decoded_imgs = autoencoder_model.predict(X_test_noisy)\n",
    "\n",
    "n = 10\n",
    "plt.figure(figsize=(20, 4))\n",
    "for i in range(1, n+1):\n",
    "    # display original\n",
    "    ax = plt.subplot(2, n, i)\n",
    "    plt.imshow(X_test_noisy[i].reshape(28, 28))\n",
    "    plt.gray()\n",
    "    ax.get_xaxis().set_visible(False)\n",
    "    ax.get_yaxis().set_visible(False)\n",
    "\n",
    "    # display reconstruction\n",
    "    ax = plt.subplot(2, n, i + n)\n",
    "    plt.imshow(decoded_imgs[i].reshape(28, 28))\n",
    "    plt.gray()\n",
    "    ax.get_xaxis().set_visible(False)\n",
    "    ax.get_yaxis().set_visible(False)\n",
    "plt.show()"
   ]
  }
 ],
 "metadata": {
  "kernelspec": {
   "display_name": "Python [conda env:tensorflow]",
   "language": "python",
   "name": "conda-env-tensorflow-py"
  },
  "language_info": {
   "codemirror_mode": {
    "name": "ipython",
    "version": 3
   },
   "file_extension": ".py",
   "mimetype": "text/x-python",
   "name": "python",
   "nbconvert_exporter": "python",
   "pygments_lexer": "ipython3",
   "version": "3.6.6"
  }
 },
 "nbformat": 4,
 "nbformat_minor": 2
}
